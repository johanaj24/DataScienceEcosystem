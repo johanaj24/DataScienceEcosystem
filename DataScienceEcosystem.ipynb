{
 "cells": [
  {
   "cell_type": "markdown",
   "id": "e708b0f2-413e-48b7-a8d3-ba47e7f0339b",
   "metadata": {
    "tags": []
   },
   "source": [
    "# Data Science Tools and Ecosystem"
   ]
  },
  {
   "cell_type": "markdown",
   "id": "5dab600c-480a-4e63-a525-fb8775d6e4a2",
   "metadata": {
    "tags": []
   },
   "source": [
    "_In this notebook, Data Science Tools and Ecosystem are summarized._"
   ]
  },
  {
   "cell_type": "markdown",
   "id": "a88914ef-da11-4819-b3db-64e6f7bbb06e",
   "metadata": {},
   "source": [
    "### *Objectives*:\n",
    "\n",
    "- Some of the popular languages that Data Scientists use are\n",
    "- Some of the commonly used libraries used by Data Scientists\n",
    "- Some Arithmetic expressions in Python\n",
    "\n"
   ]
  },
  {
   "cell_type": "markdown",
   "id": "4db7805d-3737-4933-96e6-4d7d47ba4f24",
   "metadata": {},
   "source": [
    "### Some of the popular languages that Data Scientists use are:"
   ]
  },
  {
   "cell_type": "markdown",
   "id": "1e1032f7-68d1-4283-99f8-1498df515d24",
   "metadata": {},
   "source": [
    "1. R.\n",
    "2. Python.\n",
    "3. SQL.\n",
    "4. Java.\n",
    "5. Scala.\n",
    "6. Julia."
   ]
  },
  {
   "cell_type": "markdown",
   "id": "c0562fe3-4fdb-48c6-aa14-8ebf5d41d038",
   "metadata": {},
   "source": [
    "### Some of the commonly used libraries used by Data Scientists include:"
   ]
  },
  {
   "cell_type": "markdown",
   "id": "bea48fbb-8e27-4789-8f51-38da574296be",
   "metadata": {},
   "source": [
    "1. NumPy.\n",
    "2. Pandas.\n",
    "3. Matplotlib."
   ]
  },
  {
   "cell_type": "markdown",
   "id": "cb57cde5-7da8-4b6d-a17c-3defe8840af8",
   "metadata": {},
   "source": [
    "\n",
    "| Data Science Tools |\n",
    "|------------------|\n",
    "|Apache Hadoop |\n",
    "|Apache Spark |\n",
    "|Pyhon|\n"
   ]
  },
  {
   "cell_type": "markdown",
   "id": "82cee74d-62d1-417b-b3ff-aad3af4954bd",
   "metadata": {},
   "source": [
    "### Below are a few examples of evaluating arithmetic expressions in Python"
   ]
  },
  {
   "cell_type": "markdown",
   "id": "06b4272e-450b-4ce9-a6b3-9df5239219a0",
   "metadata": {
    "tags": []
   },
   "source": [
    "_This a simple arithmetic expression to mutiply then add integers_"
   ]
  },
  {
   "cell_type": "code",
   "execution_count": 5,
   "id": "40c31c91-80c5-4005-93f3-271a33096a78",
   "metadata": {
    "tags": []
   },
   "outputs": [
    {
     "data": {
      "text/plain": [
       "17"
      ]
     },
     "execution_count": 5,
     "metadata": {},
     "output_type": "execute_result"
    }
   ],
   "source": [
    "(3*4)+5"
   ]
  },
  {
   "cell_type": "markdown",
   "id": "6365e1ea-cb96-4096-a67e-3e85232a8212",
   "metadata": {},
   "source": [
    "_This will convert 200 minutes to hours by diving by 60_"
   ]
  },
  {
   "cell_type": "code",
   "execution_count": 7,
   "id": "92d33c0a-3892-4f40-96c8-489e4061f65b",
   "metadata": {
    "tags": []
   },
   "outputs": [
    {
     "data": {
      "text/plain": [
       "3.3333333333333335"
      ]
     },
     "execution_count": 7,
     "metadata": {},
     "output_type": "execute_result"
    }
   ],
   "source": [
    "\n",
    " 200 / 60"
   ]
  },
  {
   "cell_type": "markdown",
   "id": "049133af-a46e-48f3-816a-be9f29cceef6",
   "metadata": {},
   "source": [
    "## Author\n",
    "Johana Hernández"
   ]
  }
 ],
 "metadata": {
  "kernelspec": {
   "display_name": "Python",
   "language": "python",
   "name": "conda-env-python-py"
  },
  "language_info": {
   "codemirror_mode": {
    "name": "ipython",
    "version": 3
   },
   "file_extension": ".py",
   "mimetype": "text/x-python",
   "name": "python",
   "nbconvert_exporter": "python",
   "pygments_lexer": "ipython3",
   "version": "3.7.12"
  }
 },
 "nbformat": 4,
 "nbformat_minor": 5
}
